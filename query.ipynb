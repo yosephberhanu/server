{
 "cells": [
  {
   "cell_type": "markdown",
   "metadata": {},
   "source": [
    "# Multi-Agent System For diagram update"
   ]
  },
  {
   "cell_type": "markdown",
   "metadata": {},
   "source": [
    "## Setup"
   ]
  },
  {
   "cell_type": "code",
   "execution_count": 1,
   "metadata": {},
   "outputs": [],
   "source": [
    "%load_ext autoreload\n",
    "%autoreload 2"
   ]
  },
  {
   "cell_type": "code",
   "execution_count": 2,
   "metadata": {},
   "outputs": [],
   "source": [
    "import os\n",
    "import json\n",
    "import subprocess\n",
    "\n",
    "from dotenv import load_dotenv\n",
    "from typing import List, Optional, Dict, Literal\n",
    "from sqlalchemy import create_engine, text\n",
    "from typing_extensions import Annotated, TypedDict\n",
    "\n",
    "from langchain_groq import ChatGroq\n",
    "from langchain_ollama import ChatOllama\n",
    "from langgraph.graph import END, StateGraph\n",
    "from langgraph.types import Command\n",
    "from langgraph.prebuilt import create_react_agent\n",
    "from langchain_core.tools import tool\n",
    "from langchain_core.messages import HumanMessage, AIMessage\n",
    "\n",
    "# from agents import history_node, aggregator_node, orchestrator_node, source_code_node, LaPSuMState\n",
    "\n"
   ]
  },
  {
   "cell_type": "code",
   "execution_count": 3,
   "metadata": {},
   "outputs": [
    {
     "data": {
      "text/plain": [
       "True"
      ]
     },
     "execution_count": 3,
     "metadata": {},
     "output_type": "execute_result"
    }
   ],
   "source": [
    "load_dotenv()"
   ]
  },
  {
   "cell_type": "markdown",
   "metadata": {},
   "source": [
    "## Shared and Utilities"
   ]
  },
  {
   "cell_type": "markdown",
   "metadata": {},
   "source": [
    "#### State Model"
   ]
  },
  {
   "cell_type": "code",
   "execution_count": 4,
   "metadata": {},
   "outputs": [],
   "source": [
    "class LaPSuMState(TypedDict):\n",
    "    # User query and orchestration context\n",
    "    user_query: Annotated[Optional[str], \"Original user query\"]\n",
    "    rewritten_query: Annotated[Optional[str], \"Rewritten version of the query by the orchestrator\"]\n",
    "\n",
    "    # Source-related metadata\n",
    "    repo_path: Annotated[Optional[str], \"Path to the local git repository\"]\n",
    "    diagram: Annotated[Optional[str], \"Current UML diagram in JSON format\"]\n",
    "\n",
    "    # Agent coordination\n",
    "    required_agents: Annotated[List[Literal[\"history\", \"source_code\"]], \"List of agents needed to process the query\"]\n",
    "    responded_agents: Annotated[List[Literal[\"history\", \"source_code\"]], \"List of agents that have already responded\"]\n",
    "\n",
    "    # Optional: store intermediate responses for aggregation\n",
    "    agent_responses: Annotated[Dict[str, str], \"Responses from each agent keyed by agent name\"]"
   ]
  },
  {
   "cell_type": "markdown",
   "metadata": {},
   "source": [
    "### Helper functions"
   ]
  },
  {
   "cell_type": "code",
   "execution_count": 5,
   "metadata": {},
   "outputs": [],
   "source": [
    "qwen = ChatOllama(model=\"qwen2.5\")\n",
    "deepseek = ChatGroq(model=\"deepseek-r1-distill-llama-70b\")\n",
    "llama = ChatGroq(model=\"llama-3.3-70b-versatile\")\n",
    "\n",
    "llms = {\n",
    "    \"orchestrator\": deepseek,\n",
    "    \"source_code\": llama,\n",
    "    \"history\": qwen,\n",
    "    \"docs\": qwen,\n",
    "    \"issues\": qwen,\n",
    "    \"orchestrator\": qwen,\n",
    "    \"aggregator\": qwen,\n",
    "    \"discussion\": qwen\n",
    "    \n",
    "}"
   ]
  },
  {
   "cell_type": "markdown",
   "metadata": {},
   "source": [
    "## Agents and Tools"
   ]
  },
  {
   "cell_type": "markdown",
   "metadata": {},
   "source": [
    "### History"
   ]
  },
  {
   "cell_type": "code",
   "execution_count": 6,
   "metadata": {},
   "outputs": [],
   "source": [
    "@tool\n",
    "def run_git_command(repo_path: str, command: str) -> str:\n",
    "    \"\"\"\n",
    "    Run an arbitrary git command in the given repository path.\n",
    "    \n",
    "    Args:\n",
    "        repo_path: Path to the Git repository.\n",
    "        command: The git command to run (without the leading 'git'), e.g., 'log -10 --pretty=format:%h'\n",
    "    \n",
    "    Returns:\n",
    "        The output of the command or an error message.\n",
    "    \"\"\"\n",
    "    if not os.path.exists(os.path.join(repo_path, \".git\")):\n",
    "        return f\"Error: {repo_path} is not a valid Git repository.\"\n",
    "\n",
    "    try:\n",
    "        result = subprocess.run(\n",
    "            [\"git\"] + command.strip().split(),\n",
    "            cwd=repo_path,\n",
    "            capture_output=True,\n",
    "            text=True,\n",
    "            check=True\n",
    "        )\n",
    "        return result.stdout\n",
    "    except subprocess.CalledProcessError as e:\n",
    "        return f\"Error running git command: {e.stderr}\"\n",
    "\n",
    "history_agent = create_react_agent(\n",
    "    llms['history'],\n",
    "    tools=[run_git_command],\n",
    "    prompt=\"\"\"\n",
    "        You are a version control analysis assistant collaborating with a software researcher.\n",
    "        \n",
    "        Your role is to analyze the Git history of a local project using only the tools provided.\n",
    "\n",
    "        Constraints:\n",
    "        - Do not rely on prior knowledge or assumptions.\n",
    "        - All information must be derived from Git history via the provided tools.\n",
    "        - Begin your final answer with 'FINAL ANSWER'.\n",
    "\n",
    "        Available Tool:\n",
    "        - run_git_command(command): Run any git command against the local repo.\n",
    "\n",
    "        Always refer to the repo using the path provided in 'repo_path'.\n",
    "    \"\"\"\n",
    ")\n",
    "def history_node(state: LaPSuMState) -> Command[Literal[\"orchestrator\"]]:\n",
    "    if \"history\" in state.get(\"responded_agents\", []):\n",
    "        return Command(update=state, goto=\"orchestrator\")\n",
    "\n",
    "    query = state.get(\"rewritten_query\") or state.get(\"user_query\") or \"\"\n",
    "    repo_path = state.get(\"repo_path\")\n",
    "\n",
    "    # Pass the rewritten query and repo_path to the agent\n",
    "    result = history_agent.invoke({\n",
    "        \"messages\": [HumanMessage(content=query)],\n",
    "        \"repo_path\": repo_path,\n",
    "    })\n",
    "\n",
    "    final_message = result[\"messages\"][-1]\n",
    "    state[\"agent_responses\"][\"history\"] = final_message.content\n",
    "    state[\"responded_agents\"].append(\"history\")\n",
    "\n",
    "    # Tag the message so it's traceable in logs or UI\n",
    "    result[\"messages\"][-1] = AIMessage(content=final_message.content, name=\"history\")\n",
    "\n",
    "    return Command(update=state, goto=\"orchestrator\")"
   ]
  },
  {
   "cell_type": "markdown",
   "metadata": {},
   "source": [
    "### Source Code"
   ]
  },
  {
   "cell_type": "code",
   "execution_count": 7,
   "metadata": {},
   "outputs": [],
   "source": [
    "engine = create_engine(\"sqlite:///uml-data.db\")\n",
    "\n",
    "@tool\n",
    "def query_uml_database(sql: str) -> str:\n",
    "    \"\"\"Run a SQL query against the UML database. Return results as string.\"\"\"\n",
    "    with engine.connect() as conn:\n",
    "        try:\n",
    "            result = conn.execute(text(sql))\n",
    "            rows = [dict(row) for row in result]\n",
    "            return str(rows)\n",
    "        except Exception as e:\n",
    "            return f\"SQL Error: {e}\"\n",
    "\n",
    "# ─────── Agent Schema-Aware Prompt ─────── #\n",
    "SCHEMA_PROMPT = \"\"\"\n",
    "You are a software architecture assistant specialized in analyzing Java projects via UML databases.\n",
    "\n",
    "You can use the following tool:\n",
    "- query_uml_database(sql): Run SQL queries on the UML database.\n",
    "\n",
    "The UML schema consists of:\n",
    "- uml_class(id, name, package_name, is_abstract, is_interface, annotations, files, dom_id, display_name, summary, comments)\n",
    "- uml_property(id, class_id, name, data_type, visibility, is_static, is_final, source_line, dom_id, annotations, comments, summary)\n",
    "- uml_method(id, class_id, name, dom_id, return_type, visibility, is_static, is_abstract, starting_line, ending_line, source, annotations, display_name, comments, summary)\n",
    "- uml_parameter(id, method_id, name, dom_id, data_type, display_name, annotations, comments, summary)\n",
    "- uml_relationship(id, name, dom_id, source, target, type)\n",
    "- uml_package(id, name, parent)\n",
    "\n",
    "You will receive natural language queries and respond using this schema. If applicable, generate SQL and call the tool.\n",
    "\"\"\"\n",
    "\n",
    "# ─────── Create LangGraph UML Agent ─────── #\n",
    "uml_agent = create_react_agent(\n",
    "    llms[\"source_code\"],  # Reuses same LLM\n",
    "    tools=[query_uml_database],\n",
    "    prompt=SCHEMA_PROMPT,\n",
    ")\n",
    "\n",
    "# ─────── Node for LangGraph ─────── #\n",
    "def source_code_node(state: LaPSuMState) -> Command[Literal[\"orchestrator\"]]:\n",
    "    if \"source_code\" in state.get(\"responded_agents\", []):\n",
    "        return Command(update=state, goto=\"orchestrator\")\n",
    "\n",
    "    query = state.get(\"rewritten_query\") or state.get(\"user_query\") or \"\"\n",
    "    result = uml_agent.invoke({\"messages\": [HumanMessage(content=query)]})\n",
    "    final_message = result[\"messages\"][-1]\n",
    "\n",
    "    state[\"agent_responses\"][\"source_code\"] = final_message.content\n",
    "    state[\"responded_agents\"].append(\"source_code\")\n",
    "    result[\"messages\"][-1] = AIMessage(content=final_message.content, name=\"source_code\")\n",
    "\n",
    "    return Command(update=state, goto=\"orchestrator\")"
   ]
  },
  {
   "cell_type": "markdown",
   "metadata": {},
   "source": [
    "### Aggregator"
   ]
  },
  {
   "cell_type": "code",
   "execution_count": 8,
   "metadata": {},
   "outputs": [],
   "source": [
    "aggregator_agent = create_react_agent(\n",
    "    llms['aggregator'],\n",
    "    tools=[],\n",
    "    prompt=\n",
    "        \"\"\"\n",
    "        You are an aggregation assistant.\n",
    "\n",
    "        Your role is to combine and summarize responses provided by your colleague agents.\n",
    "        Only use the content already provided in the current conversation state.\n",
    "\n",
    "        Rules:\n",
    "        - DO NOT infer or invent any information.\n",
    "        - DO NOT ask the user follow-up questions.\n",
    "        - DO NOT make assumptions or guesses.\n",
    "        - If the information is incomplete or missing, say so directly.\n",
    "        - If the answer is complete, prefix your final output with: 'FINAL ANSWER'.\n",
    "\n",
    "        You are expected to clearly and accurately synthesize the responses to help the user.\n",
    "        \"\"\"\n",
    "    ,\n",
    ")\n",
    "def aggregator_node(state: LaPSuMState) -> Command[Literal[END]]:\n",
    "    # Skip if already finalized\n",
    "    for response in state.get(\"agent_responses\", {}).values():\n",
    "        if \"FINAL ANSWER\" in response:\n",
    "            return Command(update=state, goto=END)\n",
    "\n",
    "    # Build conversation context from agent responses\n",
    "    messages = [\n",
    "        HumanMessage(content=state[\"rewritten_query\"] or state[\"user_query\"]),\n",
    "    ]\n",
    "    for agent_name in state.get(\"required_agents\", []):\n",
    "        if agent_name in state.get(\"agent_responses\", {}):\n",
    "            messages.append(AIMessage(\n",
    "                content=state[\"agent_responses\"][agent_name],\n",
    "                name=agent_name\n",
    "            ))\n",
    "\n",
    "    # Invoke the aggregator agent\n",
    "    result = aggregator_agent.invoke({\"messages\": messages})\n",
    "\n",
    "    final_message = result[\"messages\"][-1]\n",
    "\n",
    "    # If it contains 'FINAL ANSWER', the workflow should end\n",
    "    goto = END if \"FINAL ANSWER\" in final_message.content else END  # optionally re-orchestrate if not final\n",
    "\n",
    "    # Save the aggregated message\n",
    "    return Command(update={\n",
    "        \"agent_responses\": {\n",
    "            **state.get(\"agent_responses\", {}),\n",
    "            \"aggregator\": final_message.content\n",
    "        }\n",
    "    }, goto=goto)"
   ]
  },
  {
   "cell_type": "markdown",
   "metadata": {},
   "source": [
    "### Orchestrator"
   ]
  },
  {
   "cell_type": "code",
   "execution_count": 9,
   "metadata": {},
   "outputs": [],
   "source": [
    "def orchestrator_node(state: LaPSuMState) -> Command[Literal[\"history\", \"source_code\", \"aggregator\"]]:\n",
    "    # Skip orchestration if aggregation is already triggered or all agents have responded\n",
    "    if state.get(\"user_query\") is None or set(state.get(\"required_agents\", [])) == set(state.get(\"responded_agents\", [])):\n",
    "        return Command(update=state, goto=\"aggregator\")\n",
    "\n",
    "    # Run LLM-based query rewriting and planning\n",
    "    task_analysis = llms['orchestrator'].invoke([\n",
    "        HumanMessage(\n",
    "            content=(\n",
    "                \"You are a query orchestrator and planning assistant in a multi-agent system that helps answer software-related questions.\\n\"\n",
    "                \"You have access to these agents:\\n\"\n",
    "                \"- 'source_code': understands code logic, structure, classes, relationships.\\n\"\n",
    "                \"- 'history': analyzes git history, commit changes, authorship, file evolution.\\n\\n\"\n",
    "                \"Your task is to:\\n\"\n",
    "                \"1. Rewrite the user's query to make it clearer and better suited for agents.\\n\"\n",
    "                \"2. Create a step-by-step plan using available tools/agents.\\n\"\n",
    "                \"3. Identify which agents are required to complete the plan.\\n\\n\"\n",
    "                f\"User Query: {state['user_query']}\\n\\n\"\n",
    "                \"Respond in JSON format like this:\\n\"\n",
    "                \"{\\n\"\n",
    "                '  \"rewritten_query\": \"....\",\\n'\n",
    "                '  \"required_agents\": [\"source_code\", \"history\"],\\n'\n",
    "                '  \"plan\": \"1. Use get_classes to find method location.\\\\n2. Use get_source to extract code.\\\\n3. Use history agent to trace the commit.\"\\n'\n",
    "                \"}\"\n",
    "            )\n",
    "        )\n",
    "    ])\n",
    "\n",
    "    parsed_response = json.loads(task_analysis.content)\n",
    "\n",
    "    # Extract orchestration fields\n",
    "    state[\"rewritten_query\"] = parsed_response.get(\"rewritten_query\", state[\"user_query\"])\n",
    "    state[\"required_agents\"] = parsed_response.get(\"required_agents\", [])\n",
    "    state[\"responded_agents\"] = []\n",
    "    state[\"agent_responses\"] = {}\n",
    "\n",
    "    # Optional: add the plan to message history so agents can reason over it\n",
    "    plan = parsed_response.get(\"plan\")\n",
    "    if plan:\n",
    "        plan_message = HumanMessage(content=f\"Plan:\\n{plan}\", name=\"planner\")\n",
    "        state[\"messages\"] = [plan_message] + state.get(\"messages\", [])\n",
    "\n",
    "    # If no agents are required, go to aggregator\n",
    "    if not state[\"required_agents\"]:\n",
    "        return Command(update=state, goto=\"aggregator\")\n",
    "\n",
    "    # Route to first required agent\n",
    "    next_agent = state[\"required_agents\"][0]\n",
    "    return Command(update=state, goto=next_agent)\n"
   ]
  },
  {
   "cell_type": "markdown",
   "metadata": {},
   "source": [
    "## Graph"
   ]
  },
  {
   "cell_type": "code",
   "execution_count": 10,
   "metadata": {},
   "outputs": [],
   "source": [
    "# Replace MessagesState with LaPSuMState\n",
    "workflow = StateGraph(LaPSuMState)\n",
    "\n",
    "# Add nodes\n",
    "workflow.add_node(\"orchestrator\", orchestrator_node)\n",
    "workflow.add_node(\"aggregator\", aggregator_node)\n",
    "workflow.add_node(\"history\", history_node)\n",
    "workflow.add_node(\"source_code\", source_code_node)\n",
    "\n",
    "# Define edges\n",
    "workflow.set_entry_point(\"orchestrator\")\n",
    "\n",
    "# Agent nodes return to orchestrator after processing\n",
    "workflow.add_edge(\"source_code\", \"orchestrator\")\n",
    "workflow.add_edge(\"history\", \"orchestrator\")\n",
    "\n",
    "# Orchestrator eventually routes to aggregator once all agents respond\n",
    "workflow.add_edge(\"aggregator\", END)\n",
    "\n",
    "# Compile the graph\n",
    "graph = workflow.compile()"
   ]
  },
  {
   "cell_type": "markdown",
   "metadata": {},
   "source": [
    "### Visualize"
   ]
  },
  {
   "cell_type": "code",
   "execution_count": 11,
   "metadata": {},
   "outputs": [
    {
     "data": {
      "image/png": "[encoded data removed]",
      "text/plain": [
       "<IPython.core.display.Image object>"
      ]
     },
     "metadata": {},
     "output_type": "display_data"
    }
   ],
   "source": [
    "from IPython.display import Image, display\n",
    "\n",
    "try:\n",
    "    display(Image(graph.get_graph().draw_mermaid_png()))\n",
    "except Exception:\n",
    "    # This requires some extra dependencies and is optional\n",
    "    pass\n"
   ]
  },
  {
   "cell_type": "markdown",
   "metadata": {},
   "source": [
    "# Run Queries"
   ]
  },
  {
   "cell_type": "code",
   "execution_count": 12,
   "metadata": {},
   "outputs": [
    {
     "name": "stdout",
     "output_type": "stream",
     "text": [
      "orchestrator: (intermediate state)\n",
      "----\n",
      "aggregator: I need more context about which specific classes you're referring to or where these classes are located. Could you please provide details on the source of these classes or any relevant code snippets? Without this information, I cannot filter out classes based on their method count.\n",
      "----\n"
     ]
    }
   ],
   "source": [
    "events = graph.stream(\n",
    "    {\n",
    "        \"user_query\": \"Filter out classes with less than 5 methods\",\n",
    "        \"rewritten_query\": None,\n",
    "        \"repo_path\": \"/Users/yoseph/Work/Personal/keycloak\",\n",
    "        \"diagram\": None,\n",
    "        \"required_agents\": [],\n",
    "        \"responded_agents\": [],\n",
    "        \"agent_responses\": {},\n",
    "    },\n",
    "    {\"recursion_limit\": 100},\n",
    ")\n",
    "\n",
    "for event in events:\n",
    "    first_key = next(iter(event))\n",
    "    response = event[first_key]\n",
    "    if \"agent_responses\" in response and response[\"agent_responses\"].get(\"aggregator\"):\n",
    "        print(f\"{first_key}: {response['agent_responses']['aggregator']}\")\n",
    "    else:\n",
    "        print(f\"{first_key}: (intermediate state)\")\n",
    "    print('----')"
   ]
  }
 ],
 "metadata": {
  "kernelspec": {
   "display_name": "lapsum",
   "language": "python",
   "name": "python3"
  },
  "language_info": {
   "codemirror_mode": {
    "name": "ipython",
    "version": 3
   },
   "file_extension": ".py",
   "mimetype": "text/x-python",
   "name": "python",
   "nbconvert_exporter": "python",
   "pygments_lexer": "ipython3",
   "version": "3.13.2"
  }
 },
 "nbformat": 4,
 "nbformat_minor": 2
}
